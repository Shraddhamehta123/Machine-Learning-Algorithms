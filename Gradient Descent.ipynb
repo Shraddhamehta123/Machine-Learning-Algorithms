{
 "cells": [
  {
   "cell_type": "markdown",
   "id": "b172db86",
   "metadata": {},
   "source": [
    "we are going to realise the nature or process of the gradient descent algorithm on a given simple mathematical quadratic equation that is y= X2.  So our task is to find the optimal value of X so the value of y  will lowest among all the possible values. \n",
    "\n",
    "The following steps are to be taken to implement the gradient descent algorithm in python from sc"
   ]
  },
  {
   "cell_type": "markdown",
   "id": "f01d0ac8",
   "metadata": {},
   "source": [
    "Step 1: Import all necessary library  \n",
    "\n",
    "As we are implementing the gradient descent from scratch to facilitate all the mathematical functions and dependencies we are using Python's most scientific library which is Numpy and also to visualize the graphs and functions we will use the matplotlib library. Below we are importing those all. "
   ]
  },
  {
   "cell_type": "code",
   "execution_count": 1,
   "id": "191979d1",
   "metadata": {},
   "outputs": [],
   "source": [
    "# Importing the required libraries\n",
    "from numpy.random import rand\n",
    "import numpy as np\n",
    "import matplotlib.pyplot as plt"
   ]
  },
  {
   "cell_type": "markdown",
   "id": "bcba494d",
   "metadata": {},
   "source": [
    "Step 2: Define and visualize the function\n",
    "\n",
    "As we discussed we are optimizing a function y = X2 so first we will define this using the python function. Below the python function named objective is holding our actual mathematical function."
   ]
  },
  {
   "cell_type": "code",
   "execution_count": 3,
   "id": "fef6ae99",
   "metadata": {},
   "outputs": [],
   "source": [
    "# Defining the objective function\n",
    "def objective(x):\n",
    "    return x**2"
   ]
  },
  {
   "cell_type": "markdown",
   "id": "9c696cea",
   "metadata": {},
   "source": [
    "Now below we will visualize the function, we are going to map the function for values from -5,6 so that we will have a parabolic curve which is the best example of calculating the global minimum. Below is how we can calculate and plot the function."
   ]
  },
  {
   "cell_type": "code",
   "execution_count": 4,
   "id": "5e0ee708",
   "metadata": {},
   "outputs": [
    {
     "data": {
      "text/plain": [
       "Text(0, 0.5, 'f(X)')"
      ]
     },
     "execution_count": 4,
     "metadata": {},
     "output_type": "execute_result"
    },
    {
     "data": {
      "image/png": "[encoded data removed]",
      "text/plain": [
       "<Figure size 640x480 with 1 Axes>"
      ]
     },
     "metadata": {},
     "output_type": "display_data"
    }
   ],
   "source": [
    "# Visualizing the nature of objective function\n",
    "x = np.arange(-5, 6) # Checking with random values in a sequence\n",
    "f = objective(x)\n",
    "plt.scatter(x, f)\n",
    "plt.plot(x, f)\n",
    "plt.xlabel('X')\n",
    "plt.ylabel('f(X)')"
   ]
  },
  {
   "cell_type": "markdown",
   "id": "75abbdf1",
   "metadata": {},
   "source": [
    "Step 3: Building gradient descent algorithm\n",
    "\n",
    "Mathematically the optimal or global minimum point is inferred as if at a particular point the derivative of a given function (function whose minimum point is to be found out) is zero; that particular point is to be treated as the minimum point of the function. \n",
    "\n",
    "So below first we will define the derivative of the above original function in the form of a Python function. "
   ]
  },
  {
   "cell_type": "code",
   "execution_count": 6,
   "id": "982e6ccb",
   "metadata": {},
   "outputs": [],
   "source": [
    "# Defining derivative of the objective function to calculate the gradient\n",
    "def derivative_gradient(x):\n",
    "    return 2 * x"
   ]
  },
  {
   "cell_type": "markdown",
   "id": "db5dd0a9",
   "metadata": {},
   "source": [
    "Now below will define the main algorithm in the form of a python function. This will take three-parameter those are x which is a starting point for the algorithm, next is iter which is an integer number which specifies how many iterations are to be carried out, and last is lrate which is the learning rate of the algorithm mainly by what rate the algorithm should proceed. \n",
    "\n",
    "The function mainly incorporates all the necessary steps of gradient descent, first forgiven starting point calculates the gradient, next based on the gradient new value of x is calculated and on the new value, the value for the objective function is calculated to check whether it is a minimum value or not. \n",
    "\n",
    "And lastly, throughout the iteration, we plot the value of the function for each new value x to showcase the convergence effect. Below is how we can code all the steps of gradient descent."
   ]
  },
  {
   "cell_type": "code",
   "execution_count": 7,
   "id": "2311a034",
   "metadata": {},
   "outputs": [],
   "source": [
    "# Defining the function for gradient descent algorithm\n",
    "def gradient_descent(x, iter, lrate):\n",
    "  current = x # Value where the algorith will start from\n",
    "  for i in range(iter):\n",
    "    gradient = derivative_gradient(current) # Calculating gradient at the current point\n",
    "    print('Current value = %f'%current)\n",
    "    print('Gradient at current value = %f'%gradient)\n",
    "    current = current - lrate * gradient # Updating the current postion\n",
    "    solution_eval = objective(current) # Checking the function's output for updated value\n",
    "    print('>Iteration: %d, f(%s) = %.5f' % (i, current, solution_eval))\n",
    "    plt.scatter(current, solution_eval)\n",
    "    plt.plot(current, solution_eval)\n",
    "  return [current, solution_eval]"
   ]
  },
  {
   "cell_type": "markdown",
   "id": "f8bf049b",
   "metadata": {},
   "source": [
    "Step 4: Running the algorithm\n",
    "\n",
    "Now we have the algorithm ready to find the minimum point for the function. Before directly running the algorithm first we have to define some supporting parameters (usually called hyperparameters), those are starting point, a number of iterations, and a learning rate. "
   ]
  },
  {
   "cell_type": "code",
   "execution_count": 8,
   "id": "34d29d09",
   "metadata": {},
   "outputs": [],
   "source": [
    "# Defining the value of x (point to start from)\n",
    "x = 5\n",
    "# Define the no. of iterations\n",
    "iter = 30\n",
    "# Defining the learning rate (step size)\n",
    "lrate = 0.1"
   ]
  },
  {
   "cell_type": "markdown",
   "id": "2c585b25",
   "metadata": {},
   "source": [
    "Now we have defined all the necessary parameters with these parameters we will call the gradient descent function and the process of finding the minimum point will start.  "
   ]
  },
  {
   "cell_type": "code",
   "execution_count": 9,
   "id": "d8bbe027",
   "metadata": {},
   "outputs": [
    {
     "name": "stdout",
     "output_type": "stream",
     "text": [
      "Current value = 5.000000\n",
      "Gradient at current value = 10.000000\n",
      ">Iteration: 0, f(4.0) = 16.00000\n",
      "Current value = 4.000000\n",
      "Gradient at current value = 8.000000\n",
      ">Iteration: 1, f(3.2) = 10.24000\n",
      "Current value = 3.200000\n",
      "Gradient at current value = 6.400000\n",
      ">Iteration: 2, f(2.56) = 6.55360\n",
      "Current value = 2.560000\n",
      "Gradient at current value = 5.120000\n",
      ">Iteration: 3, f(2.048) = 4.19430\n",
      "Current value = 2.048000\n",
      "Gradient at current value = 4.096000\n",
      ">Iteration: 4, f(1.6384) = 2.68435\n",
      "Current value = 1.638400\n",
      "Gradient at current value = 3.276800\n",
      ">Iteration: 5, f(1.31072) = 1.71799\n",
      "Current value = 1.310720\n",
      "Gradient at current value = 2.621440\n",
      ">Iteration: 6, f(1.0485760000000002) = 1.09951\n",
      "Current value = 1.048576\n",
      "Gradient at current value = 2.097152\n",
      ">Iteration: 7, f(0.8388608000000002) = 0.70369\n",
      "Current value = 0.838861\n",
      "Gradient at current value = 1.677722\n",
      ">Iteration: 8, f(0.6710886400000001) = 0.45036\n",
      "Current value = 0.671089\n",
      "Gradient at current value = 1.342177\n",
      ">Iteration: 9, f(0.5368709120000001) = 0.28823\n",
      "Current value = 0.536871\n",
      "Gradient at current value = 1.073742\n",
      ">Iteration: 10, f(0.4294967296000001) = 0.18447\n",
      "Current value = 0.429497\n",
      "Gradient at current value = 0.858993\n",
      ">Iteration: 11, f(0.3435973836800001) = 0.11806\n",
      "Current value = 0.343597\n",
      "Gradient at current value = 0.687195\n",
      ">Iteration: 12, f(0.27487790694400005) = 0.07556\n",
      "Current value = 0.274878\n",
      "Gradient at current value = 0.549756\n",
      ">Iteration: 13, f(0.21990232555520003) = 0.04836\n",
      "Current value = 0.219902\n",
      "Gradient at current value = 0.439805\n",
      ">Iteration: 14, f(0.17592186044416003) = 0.03095\n",
      "Current value = 0.175922\n",
      "Gradient at current value = 0.351844\n",
      ">Iteration: 15, f(0.140737488355328) = 0.01981\n",
      "Current value = 0.140737\n",
      "Gradient at current value = 0.281475\n",
      ">Iteration: 16, f(0.11258999068426241) = 0.01268\n",
      "Current value = 0.112590\n",
      "Gradient at current value = 0.225180\n",
      ">Iteration: 17, f(0.09007199254740993) = 0.00811\n",
      "Current value = 0.090072\n",
      "Gradient at current value = 0.180144\n",
      ">Iteration: 18, f(0.07205759403792794) = 0.00519\n",
      "Current value = 0.072058\n",
      "Gradient at current value = 0.144115\n",
      ">Iteration: 19, f(0.057646075230342354) = 0.00332\n",
      "Current value = 0.057646\n",
      "Gradient at current value = 0.115292\n",
      ">Iteration: 20, f(0.04611686018427388) = 0.00213\n",
      "Current value = 0.046117\n",
      "Gradient at current value = 0.092234\n",
      ">Iteration: 21, f(0.03689348814741911) = 0.00136\n",
      "Current value = 0.036893\n",
      "Gradient at current value = 0.073787\n",
      ">Iteration: 22, f(0.029514790517935284) = 0.00087\n",
      "Current value = 0.029515\n",
      "Gradient at current value = 0.059030\n",
      ">Iteration: 23, f(0.02361183241434823) = 0.00056\n",
      "Current value = 0.023612\n",
      "Gradient at current value = 0.047224\n",
      ">Iteration: 24, f(0.018889465931478583) = 0.00036\n",
      "Current value = 0.018889\n",
      "Gradient at current value = 0.037779\n",
      ">Iteration: 25, f(0.015111572745182867) = 0.00023\n",
      "Current value = 0.015112\n",
      "Gradient at current value = 0.030223\n",
      ">Iteration: 26, f(0.012089258196146294) = 0.00015\n",
      "Current value = 0.012089\n",
      "Gradient at current value = 0.024179\n",
      ">Iteration: 27, f(0.009671406556917036) = 0.00009\n",
      "Current value = 0.009671\n",
      "Gradient at current value = 0.019343\n",
      ">Iteration: 28, f(0.007737125245533628) = 0.00006\n",
      "Current value = 0.007737\n",
      "Gradient at current value = 0.015474\n",
      ">Iteration: 29, f(0.006189700196426903) = 0.00004\n",
      "Minimum value for function is: f(0.006189700196426903) = 0.000038\n"
     ]
    },
    {
     "data": {
      "image/png": "[encoded data removed]",
      "text/plain": [
       "<Figure size 640x480 with 1 Axes>"
      ]
     },
     "metadata": {},
     "output_type": "display_data"
    }
   ],
   "source": [
    "# Calling the gradient descent function\n",
    "best, score = gradient_descent(x, iter, lrate)\n",
    "print('Minimum value for function is: f(%s) = %f' % (best, score))\n"
   ]
  },
  {
   "cell_type": "markdown",
   "id": "b54cf4dc",
   "metadata": {},
   "source": [
    "As you can see in the above output, the algorithm has started from point 5 and the gradient at that point is 10. The next value of x is calculated to be 4 and the gradient at a point is 16. This is continued for 30 iterations. \n",
    "\n",
    "Now after iteration, you can see that for the value of x=0.0061 the function is outputting a 0.000 value which means we have successfully found the value of x at which the minimum of function can be experienced. \n",
    "\n",
    "All the above iteration-wise output can be visualiz"
   ]
  },
  {
   "cell_type": "code",
   "execution_count": null,
   "id": "fdf07321",
   "metadata": {},
   "outputs": [],
   "source": []
  }
 ],
 "metadata": {
  "kernelspec": {
   "display_name": "Python 3 (ipykernel)",
   "language": "python",
   "name": "python3"
  },
  "language_info": {
   "codemirror_mode": {
    "name": "ipython",
    "version": 3
   },
   "file_extension": ".py",
   "mimetype": "text/x-python",
   "name": "python",
   "nbconvert_exporter": "python",
   "pygments_lexer": "ipython3",
   "version": "3.10.9"
  }
 },
 "nbformat": 4,
 "nbformat_minor": 5
}
